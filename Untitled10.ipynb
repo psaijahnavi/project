{
  "cells": [
    {
      "cell_type": "code",
      "execution_count": 3,
      "metadata": {
        "colab": {
          "base_uri": "https://localhost:8080/"
        },
        "id": "ec_O32GD_-Uq",
        "outputId": "cbf946f9-fd5e-4110-de79-ddd680cad2cd"
      },
      "outputs": [
        {
          "output_type": "stream",
          "name": "stdout",
          "text": [
            "Requirement already satisfied: tensorflow==2.8.0 in /usr/local/lib/python3.10/dist-packages (2.8.0)\n",
            "Requirement already satisfied: absl-py>=0.4.0 in /usr/local/lib/python3.10/dist-packages (from tensorflow==2.8.0) (1.4.0)\n",
            "Requirement already satisfied: astunparse>=1.6.0 in /usr/local/lib/python3.10/dist-packages (from tensorflow==2.8.0) (1.6.3)\n",
            "Requirement already satisfied: flatbuffers>=1.12 in /usr/local/lib/python3.10/dist-packages (from tensorflow==2.8.0) (23.5.26)\n",
            "Requirement already satisfied: gast>=0.2.1 in /usr/local/lib/python3.10/dist-packages (from tensorflow==2.8.0) (0.5.4)\n",
            "Requirement already satisfied: google-pasta>=0.1.1 in /usr/local/lib/python3.10/dist-packages (from tensorflow==2.8.0) (0.2.0)\n",
            "Requirement already satisfied: h5py>=2.9.0 in /usr/local/lib/python3.10/dist-packages (from tensorflow==2.8.0) (3.9.0)\n",
            "Requirement already satisfied: keras-preprocessing>=1.1.1 in /usr/local/lib/python3.10/dist-packages (from tensorflow==2.8.0) (1.1.2)\n",
            "Requirement already satisfied: libclang>=9.0.1 in /usr/local/lib/python3.10/dist-packages (from tensorflow==2.8.0) (16.0.6)\n",
            "Requirement already satisfied: numpy>=1.20 in /usr/local/lib/python3.10/dist-packages (from tensorflow==2.8.0) (1.23.5)\n",
            "Requirement already satisfied: opt-einsum>=2.3.2 in /usr/local/lib/python3.10/dist-packages (from tensorflow==2.8.0) (3.3.0)\n",
            "Requirement already satisfied: protobuf>=3.9.2 in /usr/local/lib/python3.10/dist-packages (from tensorflow==2.8.0) (3.20.3)\n",
            "Requirement already satisfied: setuptools in /usr/local/lib/python3.10/dist-packages (from tensorflow==2.8.0) (67.7.2)\n",
            "Requirement already satisfied: six>=1.12.0 in /usr/local/lib/python3.10/dist-packages (from tensorflow==2.8.0) (1.16.0)\n",
            "Requirement already satisfied: termcolor>=1.1.0 in /usr/local/lib/python3.10/dist-packages (from tensorflow==2.8.0) (2.3.0)\n",
            "Requirement already satisfied: typing-extensions>=3.6.6 in /usr/local/lib/python3.10/dist-packages (from tensorflow==2.8.0) (4.8.0)\n",
            "Requirement already satisfied: wrapt>=1.11.0 in /usr/local/lib/python3.10/dist-packages (from tensorflow==2.8.0) (1.14.1)\n",
            "Requirement already satisfied: tensorboard<2.9,>=2.8 in /usr/local/lib/python3.10/dist-packages (from tensorflow==2.8.0) (2.8.0)\n",
            "Requirement already satisfied: tf-estimator-nightly==2.8.0.dev2021122109 in /usr/local/lib/python3.10/dist-packages (from tensorflow==2.8.0) (2.8.0.dev2021122109)\n",
            "Requirement already satisfied: keras<2.9,>=2.8.0rc0 in /usr/local/lib/python3.10/dist-packages (from tensorflow==2.8.0) (2.8.0)\n",
            "Requirement already satisfied: tensorflow-io-gcs-filesystem>=0.23.1 in /usr/local/lib/python3.10/dist-packages (from tensorflow==2.8.0) (0.34.0)\n",
            "Requirement already satisfied: grpcio<2.0,>=1.24.3 in /usr/local/lib/python3.10/dist-packages (from tensorflow==2.8.0) (1.59.2)\n",
            "Requirement already satisfied: wheel<1.0,>=0.23.0 in /usr/local/lib/python3.10/dist-packages (from astunparse>=1.6.0->tensorflow==2.8.0) (0.41.3)\n",
            "Requirement already satisfied: google-auth<3,>=1.6.3 in /usr/local/lib/python3.10/dist-packages (from tensorboard<2.9,>=2.8->tensorflow==2.8.0) (2.17.3)\n",
            "Requirement already satisfied: google-auth-oauthlib<0.5,>=0.4.1 in /usr/local/lib/python3.10/dist-packages (from tensorboard<2.9,>=2.8->tensorflow==2.8.0) (0.4.6)\n",
            "Requirement already satisfied: markdown>=2.6.8 in /usr/local/lib/python3.10/dist-packages (from tensorboard<2.9,>=2.8->tensorflow==2.8.0) (3.5.1)\n",
            "Requirement already satisfied: requests<3,>=2.21.0 in /usr/local/lib/python3.10/dist-packages (from tensorboard<2.9,>=2.8->tensorflow==2.8.0) (2.31.0)\n",
            "Requirement already satisfied: tensorboard-data-server<0.7.0,>=0.6.0 in /usr/local/lib/python3.10/dist-packages (from tensorboard<2.9,>=2.8->tensorflow==2.8.0) (0.6.1)\n",
            "Requirement already satisfied: tensorboard-plugin-wit>=1.6.0 in /usr/local/lib/python3.10/dist-packages (from tensorboard<2.9,>=2.8->tensorflow==2.8.0) (1.8.1)\n",
            "Requirement already satisfied: werkzeug>=0.11.15 in /usr/local/lib/python3.10/dist-packages (from tensorboard<2.9,>=2.8->tensorflow==2.8.0) (3.0.1)\n",
            "Requirement already satisfied: cachetools<6.0,>=2.0.0 in /usr/local/lib/python3.10/dist-packages (from google-auth<3,>=1.6.3->tensorboard<2.9,>=2.8->tensorflow==2.8.0) (5.3.2)\n",
            "Requirement already satisfied: pyasn1-modules>=0.2.1 in /usr/local/lib/python3.10/dist-packages (from google-auth<3,>=1.6.3->tensorboard<2.9,>=2.8->tensorflow==2.8.0) (0.3.0)\n",
            "Requirement already satisfied: rsa<5,>=3.1.4 in /usr/local/lib/python3.10/dist-packages (from google-auth<3,>=1.6.3->tensorboard<2.9,>=2.8->tensorflow==2.8.0) (4.9)\n",
            "Requirement already satisfied: requests-oauthlib>=0.7.0 in /usr/local/lib/python3.10/dist-packages (from google-auth-oauthlib<0.5,>=0.4.1->tensorboard<2.9,>=2.8->tensorflow==2.8.0) (1.3.1)\n",
            "Requirement already satisfied: charset-normalizer<4,>=2 in /usr/local/lib/python3.10/dist-packages (from requests<3,>=2.21.0->tensorboard<2.9,>=2.8->tensorflow==2.8.0) (3.3.2)\n",
            "Requirement already satisfied: idna<4,>=2.5 in /usr/local/lib/python3.10/dist-packages (from requests<3,>=2.21.0->tensorboard<2.9,>=2.8->tensorflow==2.8.0) (3.4)\n",
            "Requirement already satisfied: urllib3<3,>=1.21.1 in /usr/local/lib/python3.10/dist-packages (from requests<3,>=2.21.0->tensorboard<2.9,>=2.8->tensorflow==2.8.0) (2.0.7)\n",
            "Requirement already satisfied: certifi>=2017.4.17 in /usr/local/lib/python3.10/dist-packages (from requests<3,>=2.21.0->tensorboard<2.9,>=2.8->tensorflow==2.8.0) (2023.7.22)\n",
            "Requirement already satisfied: MarkupSafe>=2.1.1 in /usr/local/lib/python3.10/dist-packages (from werkzeug>=0.11.15->tensorboard<2.9,>=2.8->tensorflow==2.8.0) (2.1.3)\n",
            "Requirement already satisfied: pyasn1<0.6.0,>=0.4.6 in /usr/local/lib/python3.10/dist-packages (from pyasn1-modules>=0.2.1->google-auth<3,>=1.6.3->tensorboard<2.9,>=2.8->tensorflow==2.8.0) (0.5.0)\n",
            "Requirement already satisfied: oauthlib>=3.0.0 in /usr/local/lib/python3.10/dist-packages (from requests-oauthlib>=0.7.0->google-auth-oauthlib<0.5,>=0.4.1->tensorboard<2.9,>=2.8->tensorflow==2.8.0) (3.2.2)\n",
            "Requirement already satisfied: keras==2.8.0 in /usr/local/lib/python3.10/dist-packages (2.8.0)\n",
            "Requirement already satisfied: tensorflow-addons==0.17.0 in /usr/local/lib/python3.10/dist-packages (0.17.0)\n",
            "Requirement already satisfied: packaging in /usr/local/lib/python3.10/dist-packages (from tensorflow-addons==0.17.0) (23.2)\n",
            "Requirement already satisfied: typeguard>=2.7 in /usr/local/lib/python3.10/dist-packages (from tensorflow-addons==0.17.0) (4.1.5)\n",
            "Requirement already satisfied: typing-extensions>=4.7.0 in /usr/local/lib/python3.10/dist-packages (from typeguard>=2.7->tensorflow-addons==0.17.0) (4.8.0)\n"
          ]
        }
      ],
      "source": [
        "!pip install tensorflow==2.8.0\n",
        "!pip install keras==2.8.0\n",
        "!pip install tensorflow-addons==0.17.0"
      ]
    },
    {
      "cell_type": "code",
      "execution_count": 4,
      "metadata": {
        "id": "RDcG78kX__cv"
      },
      "outputs": [],
      "source": [
        "import numpy as np\n",
        "import tensorflow as tf\n",
        "from tensorflow import keras\n",
        "from tensorflow.keras import layers\n",
        "import tensorflow_addons as tfa"
      ]
    },
    {
      "cell_type": "code",
      "execution_count": 5,
      "metadata": {
        "id": "g1Unay3HAzHr"
      },
      "outputs": [],
      "source": [
        "#import dataset\n",
        "\n",
        "num_classes = 10\n",
        "input_shape=(32,32,3)\n",
        "\n",
        "(x_train,y_train),(x_test,y_test)=keras.datasets.cifar10.load_data()\n"
      ]
    },
    {
      "cell_type": "code",
      "execution_count": 6,
      "metadata": {
        "id": "xgSLYMv2BZs1"
      },
      "outputs": [],
      "source": [
        "x_train=x_train[:500]\n",
        "y_train = y_train[:500]\n",
        "x_test = x_test[:100]\n",
        "y_test = y_test[:100]"
      ]
    },
    {
      "cell_type": "code",
      "execution_count": 7,
      "metadata": {
        "colab": {
          "base_uri": "https://localhost:8080/"
        },
        "id": "wsHZ6PVLBtuz",
        "outputId": "e55ca925-8f36-440f-d54e-a9f4952ec8d3"
      },
      "outputs": [
        {
          "output_type": "execute_result",
          "data": {
            "text/plain": [
              "(500, 32, 32, 3)"
            ]
          },
          "metadata": {},
          "execution_count": 7
        }
      ],
      "source": [
        "x_train.shape"
      ]
    },
    {
      "cell_type": "code",
      "execution_count": 8,
      "metadata": {
        "colab": {
          "base_uri": "https://localhost:8080/"
        },
        "id": "y0JHCY1uBvzM",
        "outputId": "5d5230b6-3186-4d88-b019-85f28b921778"
      },
      "outputs": [
        {
          "output_type": "execute_result",
          "data": {
            "text/plain": [
              "(500, 1)"
            ]
          },
          "metadata": {},
          "execution_count": 8
        }
      ],
      "source": [
        "y_train.shape"
      ]
    },
    {
      "cell_type": "code",
      "execution_count": 9,
      "metadata": {
        "colab": {
          "base_uri": "https://localhost:8080/"
        },
        "id": "nZTNixmrBx_h",
        "outputId": "9fd45ce6-960f-4448-ea55-9b8ea578beb0"
      },
      "outputs": [
        {
          "output_type": "execute_result",
          "data": {
            "text/plain": [
              "(100, 32, 32, 3)"
            ]
          },
          "metadata": {},
          "execution_count": 9
        }
      ],
      "source": [
        "x_test.shape"
      ]
    },
    {
      "cell_type": "code",
      "execution_count": 10,
      "metadata": {
        "colab": {
          "base_uri": "https://localhost:8080/"
        },
        "id": "mG6SFxuDB0ZX",
        "outputId": "85973a70-32d0-43d6-8d8d-4495737e7319"
      },
      "outputs": [
        {
          "output_type": "execute_result",
          "data": {
            "text/plain": [
              "(100, 1)"
            ]
          },
          "metadata": {},
          "execution_count": 10
        }
      ],
      "source": [
        "y_test.shape"
      ]
    },
    {
      "cell_type": "markdown",
      "metadata": {
        "id": "OSnNrCB7Qy78"
      },
      "source": [
        "# New Section"
      ]
    },
    {
      "cell_type": "code",
      "execution_count": 10,
      "metadata": {
        "id": "0LfXbZy7B1q6"
      },
      "outputs": [],
      "source": []
    },
    {
      "cell_type": "code",
      "execution_count": 11,
      "metadata": {
        "id": "Et3DS8sOB8im"
      },
      "outputs": [],
      "source": [
        "learning_rate = 0.001\n",
        "weight_decay = 0.0001\n",
        "batch_size = 256\n",
        "num_epochs = 30\n",
        "image_size =72\n",
        "patch_size = 6\n",
        "num_patches = (image_size // patch_size)**2\n",
        "projection_dim  = 64\n",
        "num_heads = 4\n",
        "transformer_units = [projection_dim*2,projection_dim]\n",
        "transformer_layers =8\n",
        "mlp_head_units = [2048,1024]"
      ]
    },
    {
      "cell_type": "code",
      "execution_count": 11,
      "metadata": {
        "id": "K2Tuh5VuCklT"
      },
      "outputs": [],
      "source": []
    },
    {
      "cell_type": "code",
      "execution_count": 12,
      "metadata": {
        "id": "MR4-BBNqCl89"
      },
      "outputs": [],
      "source": [
        "data_aug = keras.Sequential(\n",
        "    [\n",
        "        layers.Normalization(),\n",
        "        layers.Resizing(image_size,image_size),\n",
        "        layers.RandomFlip(\"horizontal\"),\n",
        "        layers.RandomRotation(factor = 0.2),\n",
        "        layers.RandomZoom(height_factor=0.2,width_factor=0.2)\n",
        "    ],\n",
        "    name = \"data_augmentation\",)\n",
        "data_aug.layers[0].adapt(x_train)"
      ]
    },
    {
      "cell_type": "code",
      "execution_count": 13,
      "metadata": {
        "id": "dFcR1ss7DRq0"
      },
      "outputs": [],
      "source": [
        "def mlp(x,hidden_units,dropout_rate):\n",
        "  for units in hidden_units:\n",
        "    x = layers.Dense(units,activation = tf.nn.gelu)(x)\n",
        "    x = layers.Dropout(dropout_rate)(x)\n",
        "  return x"
      ]
    },
    {
      "cell_type": "code",
      "execution_count": 13,
      "metadata": {
        "id": "5nBXMeQQDxEe"
      },
      "outputs": [],
      "source": []
    },
    {
      "cell_type": "code",
      "execution_count": 14,
      "metadata": {
        "id": "JoXgo7hXDyzQ"
      },
      "outputs": [],
      "source": [
        "class Patches(layers.Layer):\n",
        "  def __init__(self,patch_size):\n",
        "    super(Patches,self).__init__()\n",
        "    self.patch_size = patch_size\n",
        "\n",
        "  def call(self,images):\n",
        "    batch_size = tf.shape(images)[0]\n",
        "    patches = tf.image.extract_patches(images=images,sizes = [1,self.patch_size,self.patch_size,1],\n",
        "                                       strides = [1,self.patch_size,self.patch_size,1],rates = [1,1,1,1],\n",
        "                                       padding = 'VALID')\n",
        "    patch_dim = patches.shape[-1]\n",
        "    patches = tf.reshape(patches,[batch_size,-1,patch_dim])\n",
        "    return patches"
      ]
    },
    {
      "cell_type": "code",
      "execution_count": 15,
      "metadata": {
        "colab": {
          "base_uri": "https://localhost:8080/",
          "height": 673
        },
        "id": "CMYV01IkE0lM",
        "outputId": "ae7f98ed-51b1-474a-f85d-562eea135b0d"
      },
      "outputs": [
        {
          "output_type": "display_data",
          "data": {
            "text/plain": [
              "<Figure size 400x400 with 1 Axes>"
            ],
            "image/png": "[encoded data removed]"
          },
          "metadata": {}
        },
        {
          "output_type": "display_data",
          "data": {
            "text/plain": [
              "<Figure size 400x400 with 144 Axes>"
            ],
            "image/png": "[encoded data removed]"
          },
          "metadata": {}
        }
      ],
      "source": [
        "import matplotlib.pyplot as plt\n",
        "\n",
        "plt.figure(figsize = (4,4))\n",
        "image = x_train[np.random.choice(range(x_train.shape[0]))]\n",
        "plt.imshow(image)\n",
        "plt.axis('off')\n",
        "\n",
        "resized_image = tf.image.resize(tf.convert_to_tensor([image]),size=(image_size,image_size))\n",
        "patches  = Patches(patch_size)(resized_image)\n",
        "\n",
        "n = int(np.sqrt(patches.shape[1]))\n",
        "plt.figure(figsize=(4,4))\n",
        "for i,patch in enumerate(patches[0]):\n",
        "  ax = plt.subplot(n,n,i+1)\n",
        "  patch_imag =tf.reshape(patch,(patch_size,patch_size,3))\n",
        "  plt.imshow(patch_imag.numpy().astype('uint8'))\n",
        "  plt.axis('off')"
      ]
    },
    {
      "cell_type": "code",
      "execution_count": 16,
      "metadata": {
        "id": "ZBR3XFiYFZM2"
      },
      "outputs": [],
      "source": [
        "class PatchEncoder(layers.Layer):\n",
        "  def __init__(self,num_patches, projection_dim):\n",
        "    super(PatchEncoder,self).__init__()\n",
        "    self.num_patches = num_patches\n",
        "    self.projection = layers.Dense(units = projection_dim)\n",
        "    self.position_embedding = layers.Embedding(input_dim = num_patches,output_dim = projection_dim)\n",
        "\n",
        "  def call(self,patch):\n",
        "    positions = tf.range(start=0,limit=self.num_patches,delta =1)\n",
        "    encoded = self.projection(patch)+self.position_embedding(positions)\n",
        "    return encoded"
      ]
    },
    {
      "cell_type": "code",
      "execution_count": 17,
      "metadata": {
        "id": "jyEkb1zZH_AT"
      },
      "outputs": [],
      "source": [
        "def create_vit_classifier():\n",
        "  inputs = layers.Input(shape = input_shape)\n",
        "  augmentation = data_aug(inputs)\n",
        "  patches = Patches(patch_size)(augmentation)\n",
        "  encoded_patches = PatchEncoder(num_patches,projection_dim)(patches)\n",
        "\n",
        "  for _ in range(transformer_layers):\n",
        "    x1 = layers.LayerNormalization(epsilon = 1e-6)(encoded_patches)\n",
        "    attention_output = layers.MultiHeadAttention(num_heads=num_heads, key_dim=projection_dim, dropout=0.1)(x1, x1)\n",
        "\n",
        "    x2 = layers.Add()([attention_output,encoded_patches])\n",
        "    x3 = layers.LayerNormalization(epsilon = 1e-6)(x2)\n",
        "    x4 = mlp(x3,hidden_units=transformer_units ,dropout_rate=0.1)\n",
        "    encoded_patches = layers.Add()([x4,x2])\n",
        "  representation = layers.LayerNormalization(epsilon=1e-6)(encoded_patches)\n",
        "  representation = layers.Flatten()(representation)\n",
        "  representation = layers.Dropout(0.5)(representation)\n",
        "\n",
        "  features = mlp(representation,hidden_units = mlp_head_units,dropout_rate=0.5)\n",
        "  logits = layers.Dense(num_classes)(features)\n",
        "\n",
        "  model = keras.Model(inputs=inputs, outputs=logits)\n",
        "  return model"
      ]
    },
    {
      "cell_type": "code",
      "execution_count": 18,
      "metadata": {
        "id": "LeJJS9UHKA-p"
      },
      "outputs": [],
      "source": [
        "def run(model):\n",
        "  optimizer = tfa.optimizers.AdamW(learning_rate = learning_rate, weight_decay=weight_decay)\n",
        "  model.compile(optimizer=optimizer,loss=keras.losses.SparseCategoricalCrossentropy(from_logits=True),\n",
        "                metrics = [keras.metrics.SparseCategoricalAccuracy(name = 'Accuracy'),\n",
        "                          keras.metrics.SparseTopKCategoricalAccuracy(5,name = 'top_5_accuracy'),],)\n",
        "  checkpoint_filepath=\"./tmp/checkpoint\"\n",
        "  checkpoint_callback = keras.callbacks.ModelCheckpoint(checkpoint_filepath,monitor='val_accuracy',\n",
        "                                                        save_best_only=True,save_weights_only = True)\n",
        "  history= model.fit(x= x_train,y =y_train,batch_size=batch_size,epochs=num_epochs,validation_split=0.1,\n",
        "                     callbacks =[checkpoint_callback],)\n",
        "  _,accuracy,top_5_accuracy = model.evaluate(x_test,y_test)\n",
        "  print(f\"Test Accuracy: {round(accuracy*100),2}%\")\n",
        "  print(f\"test top 5 accuracy: {round(top_5_accuracy *100),2}%\")\n",
        "\n"
      ]
    },
    {
      "cell_type": "code",
      "execution_count": 19,
      "metadata": {
        "colab": {
          "base_uri": "https://localhost:8080/"
        },
        "id": "80qP-dmCM45S",
        "outputId": "596d3e66-7580-445a-cc40-7d61792bee53"
      },
      "outputs": [
        {
          "output_type": "stream",
          "name": "stdout",
          "text": [
            "Epoch 1/30\n",
            "2/2 [==============================] - ETA: 0s - loss: 6.1135 - Accuracy: 0.1356 - top_5_accuracy: 0.5622 "
          ]
        },
        {
          "output_type": "stream",
          "name": "stderr",
          "text": [
            "WARNING:tensorflow:Can save best model only with val_accuracy available, skipping.\n"
          ]
        },
        {
          "output_type": "stream",
          "name": "stdout",
          "text": [
            "\b\b\b\b\b\b\b\b\b\b\b\b\b\b\b\b\b\b\b\b\b\b\b\b\b\b\b\b\b\b\b\b\b\b\b\b\b\b\b\b\b\b\b\b\b\b\b\b\b\b\b\b\b\b\b\b\b\b\b\b\b\b\b\b\b\b\b\b\b\b\b\b\b\b\b\b\b\b\b\b\b\b\b\b\b\b\b\b\b\b\b\b\b\b\b\b\b\b\b\b\b\b\b\b\b\r2/2 [==============================] - 79s 19s/step - loss: 6.1135 - Accuracy: 0.1356 - top_5_accuracy: 0.5622 - val_loss: 5.5112 - val_Accuracy: 0.2000 - val_top_5_accuracy: 0.5400\n",
            "Epoch 2/30\n",
            "2/2 [==============================] - ETA: 0s - loss: 6.4273 - Accuracy: 0.1689 - top_5_accuracy: 0.5756 "
          ]
        },
        {
          "output_type": "stream",
          "name": "stderr",
          "text": [
            "WARNING:tensorflow:Can save best model only with val_accuracy available, skipping.\n"
          ]
        },
        {
          "output_type": "stream",
          "name": "stdout",
          "text": [
            "\b\b\b\b\b\b\b\b\b\b\b\b\b\b\b\b\b\b\b\b\b\b\b\b\b\b\b\b\b\b\b\b\b\b\b\b\b\b\b\b\b\b\b\b\b\b\b\b\b\b\b\b\b\b\b\b\b\b\b\b\b\b\b\b\b\b\b\b\b\b\b\b\b\b\b\b\b\b\b\b\b\b\b\b\b\b\b\b\b\b\b\b\b\b\b\b\b\b\b\b\b\b\b\b\b\r2/2 [==============================] - 38s 17s/step - loss: 6.4273 - Accuracy: 0.1689 - top_5_accuracy: 0.5756 - val_loss: 3.2176 - val_Accuracy: 0.2000 - val_top_5_accuracy: 0.7200\n",
            "Epoch 3/30\n",
            "2/2 [==============================] - ETA: 0s - loss: 4.1994 - Accuracy: 0.1689 - top_5_accuracy: 0.6533 "
          ]
        },
        {
          "output_type": "stream",
          "name": "stderr",
          "text": [
            "WARNING:tensorflow:Can save best model only with val_accuracy available, skipping.\n"
          ]
        },
        {
          "output_type": "stream",
          "name": "stdout",
          "text": [
            "\b\b\b\b\b\b\b\b\b\b\b\b\b\b\b\b\b\b\b\b\b\b\b\b\b\b\b\b\b\b\b\b\b\b\b\b\b\b\b\b\b\b\b\b\b\b\b\b\b\b\b\b\b\b\b\b\b\b\b\b\b\b\b\b\b\b\b\b\b\b\b\b\b\b\b\b\b\b\b\b\b\b\b\b\b\b\b\b\b\b\b\b\b\b\b\b\b\b\b\b\b\b\b\b\b\r2/2 [==============================] - 38s 16s/step - loss: 4.1994 - Accuracy: 0.1689 - top_5_accuracy: 0.6533 - val_loss: 2.9089 - val_Accuracy: 0.1600 - val_top_5_accuracy: 0.5600\n",
            "Epoch 4/30\n",
            "2/2 [==============================] - ETA: 0s - loss: 3.0472 - Accuracy: 0.1822 - top_5_accuracy: 0.7178 "
          ]
        },
        {
          "output_type": "stream",
          "name": "stderr",
          "text": [
            "WARNING:tensorflow:Can save best model only with val_accuracy available, skipping.\n"
          ]
        },
        {
          "output_type": "stream",
          "name": "stdout",
          "text": [
            "\b\b\b\b\b\b\b\b\b\b\b\b\b\b\b\b\b\b\b\b\b\b\b\b\b\b\b\b\b\b\b\b\b\b\b\b\b\b\b\b\b\b\b\b\b\b\b\b\b\b\b\b\b\b\b\b\b\b\b\b\b\b\b\b\b\b\b\b\b\b\b\b\b\b\b\b\b\b\b\b\b\b\b\b\b\b\b\b\b\b\b\b\b\b\b\b\b\b\b\b\b\b\b\b\b\r2/2 [==============================] - 37s 17s/step - loss: 3.0472 - Accuracy: 0.1822 - top_5_accuracy: 0.7178 - val_loss: 2.2092 - val_Accuracy: 0.2200 - val_top_5_accuracy: 0.7000\n",
            "Epoch 5/30\n",
            "2/2 [==============================] - ETA: 0s - loss: 2.7779 - Accuracy: 0.1933 - top_5_accuracy: 0.6844 "
          ]
        },
        {
          "output_type": "stream",
          "name": "stderr",
          "text": [
            "WARNING:tensorflow:Can save best model only with val_accuracy available, skipping.\n"
          ]
        },
        {
          "output_type": "stream",
          "name": "stdout",
          "text": [
            "\b\b\b\b\b\b\b\b\b\b\b\b\b\b\b\b\b\b\b\b\b\b\b\b\b\b\b\b\b\b\b\b\b\b\b\b\b\b\b\b\b\b\b\b\b\b\b\b\b\b\b\b\b\b\b\b\b\b\b\b\b\b\b\b\b\b\b\b\b\b\b\b\b\b\b\b\b\b\b\b\b\b\b\b\b\b\b\b\b\b\b\b\b\b\b\b\b\b\b\b\b\b\b\b\b\r2/2 [==============================] - 37s 17s/step - loss: 2.7779 - Accuracy: 0.1933 - top_5_accuracy: 0.6844 - val_loss: 1.9928 - val_Accuracy: 0.3200 - val_top_5_accuracy: 0.7800\n",
            "Epoch 6/30\n",
            "2/2 [==============================] - ETA: 0s - loss: 2.5542 - Accuracy: 0.2333 - top_5_accuracy: 0.6444 "
          ]
        },
        {
          "output_type": "stream",
          "name": "stderr",
          "text": [
            "WARNING:tensorflow:Can save best model only with val_accuracy available, skipping.\n"
          ]
        },
        {
          "output_type": "stream",
          "name": "stdout",
          "text": [
            "\b\b\b\b\b\b\b\b\b\b\b\b\b\b\b\b\b\b\b\b\b\b\b\b\b\b\b\b\b\b\b\b\b\b\b\b\b\b\b\b\b\b\b\b\b\b\b\b\b\b\b\b\b\b\b\b\b\b\b\b\b\b\b\b\b\b\b\b\b\b\b\b\b\b\b\b\b\b\b\b\b\b\b\b\b\b\b\b\b\b\b\b\b\b\b\b\b\b\b\b\b\b\b\b\b\r2/2 [==============================] - 37s 17s/step - loss: 2.5542 - Accuracy: 0.2333 - top_5_accuracy: 0.6444 - val_loss: 1.9440 - val_Accuracy: 0.2600 - val_top_5_accuracy: 0.8600\n",
            "Epoch 7/30\n",
            "2/2 [==============================] - ETA: 0s - loss: 2.3733 - Accuracy: 0.2067 - top_5_accuracy: 0.7289 "
          ]
        },
        {
          "output_type": "stream",
          "name": "stderr",
          "text": [
            "WARNING:tensorflow:Can save best model only with val_accuracy available, skipping.\n"
          ]
        },
        {
          "output_type": "stream",
          "name": "stdout",
          "text": [
            "\b\b\b\b\b\b\b\b\b\b\b\b\b\b\b\b\b\b\b\b\b\b\b\b\b\b\b\b\b\b\b\b\b\b\b\b\b\b\b\b\b\b\b\b\b\b\b\b\b\b\b\b\b\b\b\b\b\b\b\b\b\b\b\b\b\b\b\b\b\b\b\b\b\b\b\b\b\b\b\b\b\b\b\b\b\b\b\b\b\b\b\b\b\b\b\b\b\b\b\b\b\b\b\b\b\r2/2 [==============================] - 37s 17s/step - loss: 2.3733 - Accuracy: 0.2067 - top_5_accuracy: 0.7289 - val_loss: 1.9640 - val_Accuracy: 0.2000 - val_top_5_accuracy: 0.8000\n",
            "Epoch 8/30\n",
            "2/2 [==============================] - ETA: 0s - loss: 2.3457 - Accuracy: 0.2022 - top_5_accuracy: 0.7333 "
          ]
        },
        {
          "output_type": "stream",
          "name": "stderr",
          "text": [
            "WARNING:tensorflow:Can save best model only with val_accuracy available, skipping.\n"
          ]
        },
        {
          "output_type": "stream",
          "name": "stdout",
          "text": [
            "\b\b\b\b\b\b\b\b\b\b\b\b\b\b\b\b\b\b\b\b\b\b\b\b\b\b\b\b\b\b\b\b\b\b\b\b\b\b\b\b\b\b\b\b\b\b\b\b\b\b\b\b\b\b\b\b\b\b\b\b\b\b\b\b\b\b\b\b\b\b\b\b\b\b\b\b\b\b\b\b\b\b\b\b\b\b\b\b\b\b\b\b\b\b\b\b\b\b\b\b\b\b\b\b\b\r2/2 [==============================] - 37s 17s/step - loss: 2.3457 - Accuracy: 0.2022 - top_5_accuracy: 0.7333 - val_loss: 2.0212 - val_Accuracy: 0.2400 - val_top_5_accuracy: 0.8600\n",
            "Epoch 9/30\n",
            "2/2 [==============================] - ETA: 0s - loss: 2.2044 - Accuracy: 0.2778 - top_5_accuracy: 0.7667 "
          ]
        },
        {
          "output_type": "stream",
          "name": "stderr",
          "text": [
            "WARNING:tensorflow:Can save best model only with val_accuracy available, skipping.\n"
          ]
        },
        {
          "output_type": "stream",
          "name": "stdout",
          "text": [
            "\b\b\b\b\b\b\b\b\b\b\b\b\b\b\b\b\b\b\b\b\b\b\b\b\b\b\b\b\b\b\b\b\b\b\b\b\b\b\b\b\b\b\b\b\b\b\b\b\b\b\b\b\b\b\b\b\b\b\b\b\b\b\b\b\b\b\b\b\b\b\b\b\b\b\b\b\b\b\b\b\b\b\b\b\b\b\b\b\b\b\b\b\b\b\b\b\b\b\b\b\b\b\b\b\b\r2/2 [==============================] - 37s 17s/step - loss: 2.2044 - Accuracy: 0.2778 - top_5_accuracy: 0.7667 - val_loss: 2.0529 - val_Accuracy: 0.2200 - val_top_5_accuracy: 0.8600\n",
            "Epoch 10/30\n",
            "2/2 [==============================] - ETA: 0s - loss: 2.2413 - Accuracy: 0.2689 - top_5_accuracy: 0.7467 "
          ]
        },
        {
          "output_type": "stream",
          "name": "stderr",
          "text": [
            "WARNING:tensorflow:Can save best model only with val_accuracy available, skipping.\n"
          ]
        },
        {
          "output_type": "stream",
          "name": "stdout",
          "text": [
            "\b\b\b\b\b\b\b\b\b\b\b\b\b\b\b\b\b\b\b\b\b\b\b\b\b\b\b\b\b\b\b\b\b\b\b\b\b\b\b\b\b\b\b\b\b\b\b\b\b\b\b\b\b\b\b\b\b\b\b\b\b\b\b\b\b\b\b\b\b\b\b\b\b\b\b\b\b\b\b\b\b\b\b\b\b\b\b\b\b\b\b\b\b\b\b\b\b\b\b\b\b\b\b\b\b\r2/2 [==============================] - 37s 17s/step - loss: 2.2413 - Accuracy: 0.2689 - top_5_accuracy: 0.7467 - val_loss: 2.0007 - val_Accuracy: 0.2200 - val_top_5_accuracy: 0.8000\n",
            "Epoch 11/30\n",
            "2/2 [==============================] - ETA: 0s - loss: 2.1698 - Accuracy: 0.2711 - top_5_accuracy: 0.7444 "
          ]
        },
        {
          "output_type": "stream",
          "name": "stderr",
          "text": [
            "WARNING:tensorflow:Can save best model only with val_accuracy available, skipping.\n"
          ]
        },
        {
          "output_type": "stream",
          "name": "stdout",
          "text": [
            "\b\b\b\b\b\b\b\b\b\b\b\b\b\b\b\b\b\b\b\b\b\b\b\b\b\b\b\b\b\b\b\b\b\b\b\b\b\b\b\b\b\b\b\b\b\b\b\b\b\b\b\b\b\b\b\b\b\b\b\b\b\b\b\b\b\b\b\b\b\b\b\b\b\b\b\b\b\b\b\b\b\b\b\b\b\b\b\b\b\b\b\b\b\b\b\b\b\b\b\b\b\b\b\b\b\r2/2 [==============================] - 41s 21s/step - loss: 2.1698 - Accuracy: 0.2711 - top_5_accuracy: 0.7444 - val_loss: 1.9461 - val_Accuracy: 0.2400 - val_top_5_accuracy: 0.8000\n",
            "Epoch 12/30\n",
            "2/2 [==============================] - ETA: 0s - loss: 2.1177 - Accuracy: 0.2622 - top_5_accuracy: 0.7822 "
          ]
        },
        {
          "output_type": "stream",
          "name": "stderr",
          "text": [
            "WARNING:tensorflow:Can save best model only with val_accuracy available, skipping.\n"
          ]
        },
        {
          "output_type": "stream",
          "name": "stdout",
          "text": [
            "\b\b\b\b\b\b\b\b\b\b\b\b\b\b\b\b\b\b\b\b\b\b\b\b\b\b\b\b\b\b\b\b\b\b\b\b\b\b\b\b\b\b\b\b\b\b\b\b\b\b\b\b\b\b\b\b\b\b\b\b\b\b\b\b\b\b\b\b\b\b\b\b\b\b\b\b\b\b\b\b\b\b\b\b\b\b\b\b\b\b\b\b\b\b\b\b\b\b\b\b\b\b\b\b\b\r2/2 [==============================] - 38s 16s/step - loss: 2.1177 - Accuracy: 0.2622 - top_5_accuracy: 0.7822 - val_loss: 1.9249 - val_Accuracy: 0.2600 - val_top_5_accuracy: 0.8000\n",
            "Epoch 13/30\n",
            "2/2 [==============================] - ETA: 0s - loss: 2.0349 - Accuracy: 0.2622 - top_5_accuracy: 0.7889 "
          ]
        },
        {
          "output_type": "stream",
          "name": "stderr",
          "text": [
            "WARNING:tensorflow:Can save best model only with val_accuracy available, skipping.\n"
          ]
        },
        {
          "output_type": "stream",
          "name": "stdout",
          "text": [
            "\b\b\b\b\b\b\b\b\b\b\b\b\b\b\b\b\b\b\b\b\b\b\b\b\b\b\b\b\b\b\b\b\b\b\b\b\b\b\b\b\b\b\b\b\b\b\b\b\b\b\b\b\b\b\b\b\b\b\b\b\b\b\b\b\b\b\b\b\b\b\b\b\b\b\b\b\b\b\b\b\b\b\b\b\b\b\b\b\b\b\b\b\b\b\b\b\b\b\b\b\b\b\b\b\b\r2/2 [==============================] - 39s 17s/step - loss: 2.0349 - Accuracy: 0.2622 - top_5_accuracy: 0.7889 - val_loss: 1.9845 - val_Accuracy: 0.2200 - val_top_5_accuracy: 0.7600\n",
            "Epoch 14/30\n",
            "2/2 [==============================] - ETA: 0s - loss: 2.0025 - Accuracy: 0.2844 - top_5_accuracy: 0.8156 "
          ]
        },
        {
          "output_type": "stream",
          "name": "stderr",
          "text": [
            "WARNING:tensorflow:Can save best model only with val_accuracy available, skipping.\n"
          ]
        },
        {
          "output_type": "stream",
          "name": "stdout",
          "text": [
            "\b\b\b\b\b\b\b\b\b\b\b\b\b\b\b\b\b\b\b\b\b\b\b\b\b\b\b\b\b\b\b\b\b\b\b\b\b\b\b\b\b\b\b\b\b\b\b\b\b\b\b\b\b\b\b\b\b\b\b\b\b\b\b\b\b\b\b\b\b\b\b\b\b\b\b\b\b\b\b\b\b\b\b\b\b\b\b\b\b\b\b\b\b\b\b\b\b\b\b\b\b\b\b\b\b\r2/2 [==============================] - 39s 16s/step - loss: 2.0025 - Accuracy: 0.2844 - top_5_accuracy: 0.8156 - val_loss: 2.0245 - val_Accuracy: 0.1200 - val_top_5_accuracy: 0.7200\n",
            "Epoch 15/30\n",
            "2/2 [==============================] - ETA: 0s - loss: 2.0642 - Accuracy: 0.2844 - top_5_accuracy: 0.7622 "
          ]
        },
        {
          "output_type": "stream",
          "name": "stderr",
          "text": [
            "WARNING:tensorflow:Can save best model only with val_accuracy available, skipping.\n"
          ]
        },
        {
          "output_type": "stream",
          "name": "stdout",
          "text": [
            "\b\b\b\b\b\b\b\b\b\b\b\b\b\b\b\b\b\b\b\b\b\b\b\b\b\b\b\b\b\b\b\b\b\b\b\b\b\b\b\b\b\b\b\b\b\b\b\b\b\b\b\b\b\b\b\b\b\b\b\b\b\b\b\b\b\b\b\b\b\b\b\b\b\b\b\b\b\b\b\b\b\b\b\b\b\b\b\b\b\b\b\b\b\b\b\b\b\b\b\b\b\b\b\b\b\r2/2 [==============================] - 39s 17s/step - loss: 2.0642 - Accuracy: 0.2844 - top_5_accuracy: 0.7622 - val_loss: 2.0026 - val_Accuracy: 0.1800 - val_top_5_accuracy: 0.8600\n",
            "Epoch 16/30\n",
            "2/2 [==============================] - ETA: 0s - loss: 2.0081 - Accuracy: 0.3022 - top_5_accuracy: 0.7978 "
          ]
        },
        {
          "output_type": "stream",
          "name": "stderr",
          "text": [
            "WARNING:tensorflow:Can save best model only with val_accuracy available, skipping.\n"
          ]
        },
        {
          "output_type": "stream",
          "name": "stdout",
          "text": [
            "\b\b\b\b\b\b\b\b\b\b\b\b\b\b\b\b\b\b\b\b\b\b\b\b\b\b\b\b\b\b\b\b\b\b\b\b\b\b\b\b\b\b\b\b\b\b\b\b\b\b\b\b\b\b\b\b\b\b\b\b\b\b\b\b\b\b\b\b\b\b\b\b\b\b\b\b\b\b\b\b\b\b\b\b\b\b\b\b\b\b\b\b\b\b\b\b\b\b\b\b\b\b\b\b\b\r2/2 [==============================] - 38s 17s/step - loss: 2.0081 - Accuracy: 0.3022 - top_5_accuracy: 0.7978 - val_loss: 1.9769 - val_Accuracy: 0.1600 - val_top_5_accuracy: 0.8600\n",
            "Epoch 17/30\n",
            "2/2 [==============================] - ETA: 0s - loss: 1.8944 - Accuracy: 0.3333 - top_5_accuracy: 0.8133 "
          ]
        },
        {
          "output_type": "stream",
          "name": "stderr",
          "text": [
            "WARNING:tensorflow:Can save best model only with val_accuracy available, skipping.\n"
          ]
        },
        {
          "output_type": "stream",
          "name": "stdout",
          "text": [
            "\b\b\b\b\b\b\b\b\b\b\b\b\b\b\b\b\b\b\b\b\b\b\b\b\b\b\b\b\b\b\b\b\b\b\b\b\b\b\b\b\b\b\b\b\b\b\b\b\b\b\b\b\b\b\b\b\b\b\b\b\b\b\b\b\b\b\b\b\b\b\b\b\b\b\b\b\b\b\b\b\b\b\b\b\b\b\b\b\b\b\b\b\b\b\b\b\b\b\b\b\b\b\b\b\b\r2/2 [==============================] - 39s 17s/step - loss: 1.8944 - Accuracy: 0.3333 - top_5_accuracy: 0.8133 - val_loss: 2.0230 - val_Accuracy: 0.2000 - val_top_5_accuracy: 0.7800\n",
            "Epoch 18/30\n",
            "2/2 [==============================] - ETA: 0s - loss: 1.9233 - Accuracy: 0.3356 - top_5_accuracy: 0.7978 "
          ]
        },
        {
          "output_type": "stream",
          "name": "stderr",
          "text": [
            "WARNING:tensorflow:Can save best model only with val_accuracy available, skipping.\n"
          ]
        },
        {
          "output_type": "stream",
          "name": "stdout",
          "text": [
            "\b\b\b\b\b\b\b\b\b\b\b\b\b\b\b\b\b\b\b\b\b\b\b\b\b\b\b\b\b\b\b\b\b\b\b\b\b\b\b\b\b\b\b\b\b\b\b\b\b\b\b\b\b\b\b\b\b\b\b\b\b\b\b\b\b\b\b\b\b\b\b\b\b\b\b\b\b\b\b\b\b\b\b\b\b\b\b\b\b\b\b\b\b\b\b\b\b\b\b\b\b\b\b\b\b\r2/2 [==============================] - 38s 17s/step - loss: 1.9233 - Accuracy: 0.3356 - top_5_accuracy: 0.7978 - val_loss: 2.0329 - val_Accuracy: 0.1800 - val_top_5_accuracy: 0.7600\n",
            "Epoch 19/30\n",
            "2/2 [==============================] - ETA: 0s - loss: 2.0004 - Accuracy: 0.2978 - top_5_accuracy: 0.8133 "
          ]
        },
        {
          "output_type": "stream",
          "name": "stderr",
          "text": [
            "WARNING:tensorflow:Can save best model only with val_accuracy available, skipping.\n"
          ]
        },
        {
          "output_type": "stream",
          "name": "stdout",
          "text": [
            "\b\b\b\b\b\b\b\b\b\b\b\b\b\b\b\b\b\b\b\b\b\b\b\b\b\b\b\b\b\b\b\b\b\b\b\b\b\b\b\b\b\b\b\b\b\b\b\b\b\b\b\b\b\b\b\b\b\b\b\b\b\b\b\b\b\b\b\b\b\b\b\b\b\b\b\b\b\b\b\b\b\b\b\b\b\b\b\b\b\b\b\b\b\b\b\b\b\b\b\b\b\b\b\b\b\r2/2 [==============================] - 37s 17s/step - loss: 2.0004 - Accuracy: 0.2978 - top_5_accuracy: 0.8133 - val_loss: 1.9681 - val_Accuracy: 0.2000 - val_top_5_accuracy: 0.8000\n",
            "Epoch 20/30\n",
            "2/2 [==============================] - ETA: 0s - loss: 1.8660 - Accuracy: 0.3333 - top_5_accuracy: 0.8311 "
          ]
        },
        {
          "output_type": "stream",
          "name": "stderr",
          "text": [
            "WARNING:tensorflow:Can save best model only with val_accuracy available, skipping.\n"
          ]
        },
        {
          "output_type": "stream",
          "name": "stdout",
          "text": [
            "\b\b\b\b\b\b\b\b\b\b\b\b\b\b\b\b\b\b\b\b\b\b\b\b\b\b\b\b\b\b\b\b\b\b\b\b\b\b\b\b\b\b\b\b\b\b\b\b\b\b\b\b\b\b\b\b\b\b\b\b\b\b\b\b\b\b\b\b\b\b\b\b\b\b\b\b\b\b\b\b\b\b\b\b\b\b\b\b\b\b\b\b\b\b\b\b\b\b\b\b\b\b\b\b\b\r2/2 [==============================] - 37s 17s/step - loss: 1.8660 - Accuracy: 0.3333 - top_5_accuracy: 0.8311 - val_loss: 1.9905 - val_Accuracy: 0.1600 - val_top_5_accuracy: 0.7800\n",
            "Epoch 21/30\n",
            "2/2 [==============================] - ETA: 0s - loss: 1.8022 - Accuracy: 0.3467 - top_5_accuracy: 0.8444 "
          ]
        },
        {
          "output_type": "stream",
          "name": "stderr",
          "text": [
            "WARNING:tensorflow:Can save best model only with val_accuracy available, skipping.\n"
          ]
        },
        {
          "output_type": "stream",
          "name": "stdout",
          "text": [
            "\b\b\b\b\b\b\b\b\b\b\b\b\b\b\b\b\b\b\b\b\b\b\b\b\b\b\b\b\b\b\b\b\b\b\b\b\b\b\b\b\b\b\b\b\b\b\b\b\b\b\b\b\b\b\b\b\b\b\b\b\b\b\b\b\b\b\b\b\b\b\b\b\b\b\b\b\b\b\b\b\b\b\b\b\b\b\b\b\b\b\b\b\b\b\b\b\b\b\b\b\b\b\b\b\b\r2/2 [==============================] - 37s 17s/step - loss: 1.8022 - Accuracy: 0.3467 - top_5_accuracy: 0.8444 - val_loss: 2.0132 - val_Accuracy: 0.1600 - val_top_5_accuracy: 0.8000\n",
            "Epoch 22/30\n",
            "2/2 [==============================] - ETA: 0s - loss: 1.8647 - Accuracy: 0.3689 - top_5_accuracy: 0.8533 "
          ]
        },
        {
          "output_type": "stream",
          "name": "stderr",
          "text": [
            "WARNING:tensorflow:Can save best model only with val_accuracy available, skipping.\n"
          ]
        },
        {
          "output_type": "stream",
          "name": "stdout",
          "text": [
            "\b\b\b\b\b\b\b\b\b\b\b\b\b\b\b\b\b\b\b\b\b\b\b\b\b\b\b\b\b\b\b\b\b\b\b\b\b\b\b\b\b\b\b\b\b\b\b\b\b\b\b\b\b\b\b\b\b\b\b\b\b\b\b\b\b\b\b\b\b\b\b\b\b\b\b\b\b\b\b\b\b\b\b\b\b\b\b\b\b\b\b\b\b\b\b\b\b\b\b\b\b\b\b\b\b\r2/2 [==============================] - 40s 18s/step - loss: 1.8647 - Accuracy: 0.3689 - top_5_accuracy: 0.8533 - val_loss: 1.9612 - val_Accuracy: 0.2000 - val_top_5_accuracy: 0.8400\n",
            "Epoch 23/30\n",
            "2/2 [==============================] - ETA: 0s - loss: 1.7598 - Accuracy: 0.3689 - top_5_accuracy: 0.8400 "
          ]
        },
        {
          "output_type": "stream",
          "name": "stderr",
          "text": [
            "WARNING:tensorflow:Can save best model only with val_accuracy available, skipping.\n"
          ]
        },
        {
          "output_type": "stream",
          "name": "stdout",
          "text": [
            "\b\b\b\b\b\b\b\b\b\b\b\b\b\b\b\b\b\b\b\b\b\b\b\b\b\b\b\b\b\b\b\b\b\b\b\b\b\b\b\b\b\b\b\b\b\b\b\b\b\b\b\b\b\b\b\b\b\b\b\b\b\b\b\b\b\b\b\b\b\b\b\b\b\b\b\b\b\b\b\b\b\b\b\b\b\b\b\b\b\b\b\b\b\b\b\b\b\b\b\b\b\b\b\b\b\r2/2 [==============================] - 38s 18s/step - loss: 1.7598 - Accuracy: 0.3689 - top_5_accuracy: 0.8400 - val_loss: 1.9165 - val_Accuracy: 0.1400 - val_top_5_accuracy: 0.8200\n",
            "Epoch 24/30\n",
            "2/2 [==============================] - ETA: 0s - loss: 1.7675 - Accuracy: 0.3644 - top_5_accuracy: 0.8444 "
          ]
        },
        {
          "output_type": "stream",
          "name": "stderr",
          "text": [
            "WARNING:tensorflow:Can save best model only with val_accuracy available, skipping.\n"
          ]
        },
        {
          "output_type": "stream",
          "name": "stdout",
          "text": [
            "\b\b\b\b\b\b\b\b\b\b\b\b\b\b\b\b\b\b\b\b\b\b\b\b\b\b\b\b\b\b\b\b\b\b\b\b\b\b\b\b\b\b\b\b\b\b\b\b\b\b\b\b\b\b\b\b\b\b\b\b\b\b\b\b\b\b\b\b\b\b\b\b\b\b\b\b\b\b\b\b\b\b\b\b\b\b\b\b\b\b\b\b\b\b\b\b\b\b\b\b\b\b\b\b\b\r2/2 [==============================] - 38s 17s/step - loss: 1.7675 - Accuracy: 0.3644 - top_5_accuracy: 0.8444 - val_loss: 1.9245 - val_Accuracy: 0.1600 - val_top_5_accuracy: 0.8400\n",
            "Epoch 25/30\n",
            "2/2 [==============================] - ETA: 0s - loss: 1.7987 - Accuracy: 0.3844 - top_5_accuracy: 0.8422 "
          ]
        },
        {
          "output_type": "stream",
          "name": "stderr",
          "text": [
            "WARNING:tensorflow:Can save best model only with val_accuracy available, skipping.\n"
          ]
        },
        {
          "output_type": "stream",
          "name": "stdout",
          "text": [
            "\b\b\b\b\b\b\b\b\b\b\b\b\b\b\b\b\b\b\b\b\b\b\b\b\b\b\b\b\b\b\b\b\b\b\b\b\b\b\b\b\b\b\b\b\b\b\b\b\b\b\b\b\b\b\b\b\b\b\b\b\b\b\b\b\b\b\b\b\b\b\b\b\b\b\b\b\b\b\b\b\b\b\b\b\b\b\b\b\b\b\b\b\b\b\b\b\b\b\b\b\b\b\b\b\b\r2/2 [==============================] - 37s 17s/step - loss: 1.7987 - Accuracy: 0.3844 - top_5_accuracy: 0.8422 - val_loss: 1.9624 - val_Accuracy: 0.1400 - val_top_5_accuracy: 0.8200\n",
            "Epoch 26/30\n",
            "2/2 [==============================] - ETA: 0s - loss: 1.7715 - Accuracy: 0.3711 - top_5_accuracy: 0.8511 "
          ]
        },
        {
          "output_type": "stream",
          "name": "stderr",
          "text": [
            "WARNING:tensorflow:Can save best model only with val_accuracy available, skipping.\n"
          ]
        },
        {
          "output_type": "stream",
          "name": "stdout",
          "text": [
            "\b\b\b\b\b\b\b\b\b\b\b\b\b\b\b\b\b\b\b\b\b\b\b\b\b\b\b\b\b\b\b\b\b\b\b\b\b\b\b\b\b\b\b\b\b\b\b\b\b\b\b\b\b\b\b\b\b\b\b\b\b\b\b\b\b\b\b\b\b\b\b\b\b\b\b\b\b\b\b\b\b\b\b\b\b\b\b\b\b\b\b\b\b\b\b\b\b\b\b\b\b\b\b\b\b\r2/2 [==============================] - 36s 16s/step - loss: 1.7715 - Accuracy: 0.3711 - top_5_accuracy: 0.8511 - val_loss: 1.9489 - val_Accuracy: 0.2000 - val_top_5_accuracy: 0.8400\n",
            "Epoch 27/30\n",
            "2/2 [==============================] - ETA: 0s - loss: 1.6985 - Accuracy: 0.3756 - top_5_accuracy: 0.8800 "
          ]
        },
        {
          "output_type": "stream",
          "name": "stderr",
          "text": [
            "WARNING:tensorflow:Can save best model only with val_accuracy available, skipping.\n"
          ]
        },
        {
          "output_type": "stream",
          "name": "stdout",
          "text": [
            "\b\b\b\b\b\b\b\b\b\b\b\b\b\b\b\b\b\b\b\b\b\b\b\b\b\b\b\b\b\b\b\b\b\b\b\b\b\b\b\b\b\b\b\b\b\b\b\b\b\b\b\b\b\b\b\b\b\b\b\b\b\b\b\b\b\b\b\b\b\b\b\b\b\b\b\b\b\b\b\b\b\b\b\b\b\b\b\b\b\b\b\b\b\b\b\b\b\b\b\b\b\b\b\b\b\r2/2 [==============================] - 37s 17s/step - loss: 1.6985 - Accuracy: 0.3756 - top_5_accuracy: 0.8800 - val_loss: 1.9123 - val_Accuracy: 0.1600 - val_top_5_accuracy: 0.8200\n",
            "Epoch 28/30\n",
            "2/2 [==============================] - ETA: 0s - loss: 1.7160 - Accuracy: 0.3867 - top_5_accuracy: 0.8556 "
          ]
        },
        {
          "output_type": "stream",
          "name": "stderr",
          "text": [
            "WARNING:tensorflow:Can save best model only with val_accuracy available, skipping.\n"
          ]
        },
        {
          "output_type": "stream",
          "name": "stdout",
          "text": [
            "\b\b\b\b\b\b\b\b\b\b\b\b\b\b\b\b\b\b\b\b\b\b\b\b\b\b\b\b\b\b\b\b\b\b\b\b\b\b\b\b\b\b\b\b\b\b\b\b\b\b\b\b\b\b\b\b\b\b\b\b\b\b\b\b\b\b\b\b\b\b\b\b\b\b\b\b\b\b\b\b\b\b\b\b\b\b\b\b\b\b\b\b\b\b\b\b\b\b\b\b\b\b\b\b\b\r2/2 [==============================] - 38s 17s/step - loss: 1.7160 - Accuracy: 0.3867 - top_5_accuracy: 0.8556 - val_loss: 1.9285 - val_Accuracy: 0.1800 - val_top_5_accuracy: 0.9000\n",
            "Epoch 29/30\n",
            "2/2 [==============================] - ETA: 0s - loss: 1.7238 - Accuracy: 0.4044 - top_5_accuracy: 0.8844 "
          ]
        },
        {
          "output_type": "stream",
          "name": "stderr",
          "text": [
            "WARNING:tensorflow:Can save best model only with val_accuracy available, skipping.\n"
          ]
        },
        {
          "output_type": "stream",
          "name": "stdout",
          "text": [
            "\b\b\b\b\b\b\b\b\b\b\b\b\b\b\b\b\b\b\b\b\b\b\b\b\b\b\b\b\b\b\b\b\b\b\b\b\b\b\b\b\b\b\b\b\b\b\b\b\b\b\b\b\b\b\b\b\b\b\b\b\b\b\b\b\b\b\b\b\b\b\b\b\b\b\b\b\b\b\b\b\b\b\b\b\b\b\b\b\b\b\b\b\b\b\b\b\b\b\b\b\b\b\b\b\b\r2/2 [==============================] - 38s 17s/step - loss: 1.7238 - Accuracy: 0.4044 - top_5_accuracy: 0.8844 - val_loss: 1.9362 - val_Accuracy: 0.2000 - val_top_5_accuracy: 0.8000\n",
            "Epoch 30/30\n",
            "2/2 [==============================] - ETA: 0s - loss: 1.6223 - Accuracy: 0.4311 - top_5_accuracy: 0.9000 "
          ]
        },
        {
          "output_type": "stream",
          "name": "stderr",
          "text": [
            "WARNING:tensorflow:Can save best model only with val_accuracy available, skipping.\n"
          ]
        },
        {
          "output_type": "stream",
          "name": "stdout",
          "text": [
            "2/2 [==============================] - 37s 17s/step - loss: 1.6223 - Accuracy: 0.4311 - top_5_accuracy: 0.9000 - val_loss: 1.9527 - val_Accuracy: 0.2200 - val_top_5_accuracy: 0.7600\n",
            "4/4 [==============================] - 3s 621ms/step - loss: 1.8950 - Accuracy: 0.3200 - top_5_accuracy: 0.8900\n",
            "Test Accuracy: (32, 2)%\n",
            "test top 5 accuracy: (89, 2)%\n"
          ]
        }
      ],
      "source": [
        "vit_classifier = create_vit_classifier()\n",
        "history  = run(vit_classifier)"
      ]
    },
    {
      "cell_type": "code",
      "execution_count": 20,
      "metadata": {
        "id": "kRRCzHztNAYL"
      },
      "outputs": [],
      "source": [
        "class_names = [\n",
        "    'airplane',\n",
        "    'automobile',\n",
        "    'bird',\n",
        "    'cat',\n",
        "    'deer',\n",
        "    'dog',\n",
        "    'frog',\n",
        "    'horse',\n",
        "    'ship',\n",
        "    'truck'\n",
        "]"
      ]
    },
    {
      "cell_type": "code",
      "source": [
        "def img_predict(images, model):\n",
        "    if len(images.shape) == 3:\n",
        "        out = model.predict(images.reshape(-1, *images.shape))\n",
        "    else:\n",
        "        out = model.predict(images)\n",
        "    prediction = np.argmax(out, axis=1)\n",
        "    print(prediction)\n",
        "\n",
        "index = 16\n",
        "plt.imshow(x_test[index])\n",
        "img_predict(x_test[index], vit_classifier)"
      ],
      "metadata": {
        "colab": {
          "base_uri": "https://localhost:8080/",
          "height": 447
        },
        "id": "WX7u4agWmby_",
        "outputId": "f075eb14-db92-420c-c67f-3e219b76adc0"
      },
      "execution_count": 25,
      "outputs": [
        {
          "output_type": "stream",
          "name": "stdout",
          "text": [
            "[5]\n"
          ]
        },
        {
          "output_type": "display_data",
          "data": {
            "text/plain": [
              "<Figure size 640x480 with 1 Axes>"
            ],
            "image/png": "[encoded data removed]"
          },
          "metadata": {}
        }
      ]
    }
  ],
  "metadata": {
    "colab": {
      "provenance": []
    },
    "kernelspec": {
      "display_name": "Python 3",
      "name": "python3"
    },
    "language_info": {
      "name": "python"
    }
  },
  "nbformat": 4,
  "nbformat_minor": 0
}